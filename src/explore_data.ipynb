{
 "cells": [
  {
   "cell_type": "code",
   "execution_count": 34,
   "metadata": {},
   "outputs": [],
   "source": [
    "import pandas as pd\n",
    "import pathlib\n",
    "\n",
    "import plotly.graph_objects as go\n",
    "from plotly.subplots import make_subplots"
   ]
  },
  {
   "cell_type": "code",
   "execution_count": 22,
   "metadata": {},
   "outputs": [],
   "source": [
    "p = pathlib.Path('.')\n",
    "path_name = {path:path.name.replace('tbl','').replace('.csv', '') for path in list(p.glob('data/*.csv'))}\n",
    "tables = {path.name.replace('tbl','').replace('.csv', ''):pd.read_csv(path, index_col=f'{path_name[path]}ID') for path in path_name}"
   ]
  },
  {
   "cell_type": "code",
   "execution_count": 23,
   "metadata": {},
   "outputs": [],
   "source": [
    "tables['Film']['FilmReleaseDate'] = pd.to_datetime(tables['Film']['FilmReleaseDate'])\n",
    "tables['Film']['FilmBoxOfficeDollars'] = tables['Film']['FilmBoxOfficeDollars'] /10**6\n",
    "tables['Film']['FilmBudgetDollars'] = tables['Film']['FilmBudgetDollars'] /10**6\n",
    "tables['Film']['FilmBenefits'] = tables['Film']['FilmBoxOfficeDollars'] - tables['Film']['FilmBudgetDollars']\n",
    "tables['Film']['FilmReleaseDate'] = pd.to_datetime(tables['Film']['FilmReleaseDate'])\n",
    "tables['Film']['FilmReleaseYear'] = tables['Film']['FilmReleaseDate'].dt.year"
   ]
  },
  {
   "cell_type": "code",
   "execution_count": null,
   "metadata": {},
   "outputs": [],
   "source": []
  },
  {
   "cell_type": "code",
   "execution_count": 7,
   "metadata": {},
   "outputs": [
    {
     "data": {
      "text/html": [
       "<div>\n",
       "<style scoped>\n",
       "    .dataframe tbody tr th:only-of-type {\n",
       "        vertical-align: middle;\n",
       "    }\n",
       "\n",
       "    .dataframe tbody tr th {\n",
       "        vertical-align: top;\n",
       "    }\n",
       "\n",
       "    .dataframe thead th {\n",
       "        text-align: right;\n",
       "    }\n",
       "</style>\n",
       "<table border=\"1\" class=\"dataframe\">\n",
       "  <thead>\n",
       "    <tr style=\"text-align: right;\">\n",
       "      <th></th>\n",
       "      <th>DirectorName</th>\n",
       "      <th>DirectorDOB</th>\n",
       "      <th>DirectorGender</th>\n",
       "    </tr>\n",
       "    <tr>\n",
       "      <th>DirectorID</th>\n",
       "      <th></th>\n",
       "      <th></th>\n",
       "      <th></th>\n",
       "    </tr>\n",
       "  </thead>\n",
       "  <tbody>\n",
       "    <tr>\n",
       "      <th>4</th>\n",
       "      <td>Steven Spielberg</td>\n",
       "      <td>1946-12-18 00:00:00.000</td>\n",
       "      <td>Male</td>\n",
       "    </tr>\n",
       "    <tr>\n",
       "      <th>5</th>\n",
       "      <td>Joel Coen</td>\n",
       "      <td>1954-11-29 00:00:00.000</td>\n",
       "      <td>Male</td>\n",
       "    </tr>\n",
       "    <tr>\n",
       "      <th>6</th>\n",
       "      <td>Ethan Coen</td>\n",
       "      <td>1957-09-21 00:00:00.000</td>\n",
       "      <td>Male</td>\n",
       "    </tr>\n",
       "    <tr>\n",
       "      <th>7</th>\n",
       "      <td>George Lucas</td>\n",
       "      <td>1944-05-14 00:00:00.000</td>\n",
       "      <td>Male</td>\n",
       "    </tr>\n",
       "    <tr>\n",
       "      <th>8</th>\n",
       "      <td>Ang Lee</td>\n",
       "      <td>1954-10-23 00:00:00.000</td>\n",
       "      <td>Male</td>\n",
       "    </tr>\n",
       "    <tr>\n",
       "      <th>...</th>\n",
       "      <td>...</td>\n",
       "      <td>...</td>\n",
       "      <td>...</td>\n",
       "    </tr>\n",
       "    <tr>\n",
       "      <th>121</th>\n",
       "      <td>Merian C. Cooper</td>\n",
       "      <td>1893-10-24 00:00:00.000</td>\n",
       "      <td>Male</td>\n",
       "    </tr>\n",
       "    <tr>\n",
       "      <th>122</th>\n",
       "      <td>Akira Kurosawa</td>\n",
       "      <td>1910-10-23 00:00:00.000</td>\n",
       "      <td>Male</td>\n",
       "    </tr>\n",
       "    <tr>\n",
       "      <th>123</th>\n",
       "      <td>Morgan Spurlock</td>\n",
       "      <td>1970-11-07 00:00:00.000</td>\n",
       "      <td>Male</td>\n",
       "    </tr>\n",
       "    <tr>\n",
       "      <th>124</th>\n",
       "      <td>Oliver Owl</td>\n",
       "      <td>1970-01-01 00:00:00.000</td>\n",
       "      <td>Male</td>\n",
       "    </tr>\n",
       "    <tr>\n",
       "      <th>125</th>\n",
       "      <td>Wendy Wise</td>\n",
       "      <td>1971-02-01 00:00:00.000</td>\n",
       "      <td>Female</td>\n",
       "    </tr>\n",
       "  </tbody>\n",
       "</table>\n",
       "<p>121 rows × 3 columns</p>\n",
       "</div>"
      ],
      "text/plain": [
       "                DirectorName              DirectorDOB DirectorGender\n",
       "DirectorID                                                          \n",
       "4           Steven Spielberg  1946-12-18 00:00:00.000           Male\n",
       "5                  Joel Coen  1954-11-29 00:00:00.000           Male\n",
       "6                 Ethan Coen  1957-09-21 00:00:00.000           Male\n",
       "7               George Lucas  1944-05-14 00:00:00.000           Male\n",
       "8                    Ang Lee  1954-10-23 00:00:00.000           Male\n",
       "...                      ...                      ...            ...\n",
       "121         Merian C. Cooper  1893-10-24 00:00:00.000           Male\n",
       "122           Akira Kurosawa  1910-10-23 00:00:00.000           Male\n",
       "123          Morgan Spurlock  1970-11-07 00:00:00.000           Male\n",
       "124               Oliver Owl  1970-01-01 00:00:00.000           Male\n",
       "125               Wendy Wise  1971-02-01 00:00:00.000         Female\n",
       "\n",
       "[121 rows x 3 columns]"
      ]
     },
     "execution_count": 7,
     "metadata": {},
     "output_type": "execute_result"
    }
   ],
   "source": [
    "tables['Director']"
   ]
  },
  {
   "cell_type": "code",
   "execution_count": 47,
   "metadata": {},
   "outputs": [
    {
     "name": "stderr",
     "output_type": "stream",
     "text": [
      "C:\\Users\\nicom\\AppData\\Local\\Temp\\ipykernel_4128\\4254613788.py:3: FutureWarning:\n",
      "\n",
      "The default value of numeric_only in DataFrameGroupBy.mean is deprecated. In a future version, numeric_only will default to False. Either specify numeric_only or select only columns which should be valid for the function.\n",
      "\n"
     ]
    }
   ],
   "source": [
    "df = tables['Actor'].merge(tables['Cast'], left_index=True, right_on='CastActorID').merge(tables['Film'][['FilmName','FilmBoxOfficeDollars', 'FilmBudgetDollars', 'FilmBenefits']], left_on='CastFilmID', right_index=True)\n",
    "    \n",
    "df = df.groupby('ActorName').mean().sort_values('FilmBoxOfficeDollars', ascending=False)"
   ]
  },
  {
   "cell_type": "code",
   "execution_count": 50,
   "metadata": {},
   "outputs": [
    {
     "data": {
      "application/vnd.plotly.v1+json": {
       "config": {
        "plotlyServerURL": "https://plot.ly"
       },
       "data": [
        {
         "type": "bar",
         "x": [
          "Kate Winslet",
          "Billy Zane",
          "Bill Nighy",
          "Stellan Skarsgard",
          "Laura Dern",
          "Richard Attenborough",
          "Ralph Fiennes",
          "Keira Knightley",
          "Emma Watson",
          "Rupert Grint",
          "Daniel Radcliffe",
          "Anthony Daniels",
          "Kenny Baker",
          "Kenneth Branagh",
          "Liv Tyler",
          "Jeff Goldblum",
          "Antonio Banderas",
          "John Rhys-Davies",
          "Peter Mayhew",
          "Rena Owen",
          "Bill Paxton",
          "David Wenham",
          "Tobey Maguire",
          "Kirsten Dunst",
          "Elijah Wood",
          "Bill Pullman",
          "Randy Quaid",
          "Mary McDonnell",
          "Alan Rickman",
          "Natalie Portman",
          "Robbie Coltrane",
          "Orlando Bloom",
          "Cate Blanchett",
          "Karl Urban",
          "Emma Thompson",
          "Viggo Mortensen",
          "Jurgen Prochnow",
          "Audrey Tautou",
          "Jonathan Pryce",
          "Temuera Morrison",
          "Hayden Christensen",
          "Hugo Weaving",
          "Frank Oz",
          "Mike Myers",
          "Eddie Murphy",
          "Christopher Lee",
          "Andy Serkis",
          "John Turturro",
          "Peter Cullen",
          "Megan Fox",
          "Helena Bonham Carter",
          "Sean Bean",
          "Michael Gambon",
          "Johnny Depp",
          "Ian McDiarmid",
          "Gary Oldman",
          "Ewan McGregor",
          "Ian McKellen",
          "John Cleese",
          "Richard Harris",
          "Brian Dennehy",
          "Peter O'Toole",
          "Ray Park",
          "Jean Reno",
          "Ian Holm",
          "Cameron Diaz",
          "Tim Robbins",
          "Linda Fiorentino",
          "Monica Bellucci",
          "Naomi Watts",
          "Dennis Quaid",
          "Leonardo DiCaprio",
          "Carrie-Anne Moss",
          "John Hurt",
          "Julie Kavner",
          "Yeardley Smith",
          "Dan Castellaneta",
          "James Coburn",
          "Billy Crystal",
          "Linda Hamilton",
          "Edward Furlong",
          "Willem Dafoe",
          "Samuel L. Jackson",
          "Ben Affleck",
          "Diane Kruger",
          "Jennifer Aniston",
          "James Fox",
          "Sam Neill",
          "Tom Cruise",
          "Tommy Lee Jones",
          "Geoffrey Rush",
          "Keanu Reeves",
          "Connie Nielsen",
          "Oliver Reed",
          "Billy Connolly",
          "Emmanuelle Beart",
          "Lena Headey",
          "Dominic West",
          "Gerard Butler",
          "Dan Aykroyd",
          "Cuba Gooding Jr.",
          "Will Smith",
          "Brad Pitt",
          "David Strathairn",
          "Rip Torn",
          "Nancy Cartwright",
          "Brendan Gleeson",
          "Tom Hanks",
          "Rosamund Pike",
          "Shia LaBeouf",
          "Paul Bettany",
          "Liam Neeson",
          "Judi Dench",
          "Ken Watanabe",
          "Laurence Fishburne",
          "Andy Garcia",
          "Julia Roberts",
          "Elliott Gould",
          "Adrien Brody",
          "Albert Finney",
          "Vanessa Redgrave",
          "Sean Connery",
          "Simon Pegg",
          "Philip Seymour Hoffman",
          "Patton Oswalt",
          "Kate Bosworth",
          "Kevin Spacey",
          "Brandon Routh",
          "Jon Voight",
          "Steve Buscemi",
          "Don Cheadle",
          "Michelle Monaghan",
          "Timothy Olyphant",
          "Vin Diesel",
          "Samantha Bond",
          "Pierce Brosnan",
          "Katie Holmes",
          "Rutger Hauer",
          "Ving Rhames",
          "Joe Pantoliano",
          "Julianne Moore",
          "John Lithgow",
          "Jim Carrey",
          "Tia Carrere",
          "Art Malik",
          "Tom Arnold",
          "Eliza Dushku",
          "Charlton Heston",
          "Jamie Lee Curtis",
          "Denise Richards",
          "Robert Carlyle",
          "Matt Damon",
          "Joaquin Phoenix",
          "Michael Clarke Duncan",
          "Dakota Fanning",
          "Jack Black",
          "Morgan Freeman",
          "Famke Janssen",
          "Bob Hoskins",
          "Kathleen Turner",
          "Tea Leoni",
          "Robert Duvall",
          "Jon Favreau",
          "Bridget Moynahan",
          "Joe Don Baker",
          "Bruce Willis",
          "Tom Sizemore",
          "Billy Bob Thornton",
          "Gary Sinise",
          "Kevin Bacon",
          "Angelina Jolie",
          "Steve Carell",
          "John Goodman",
          "Kevin Costner",
          "Brian Cox",
          "Jake Gyllenhaal",
          "George Clooney",
          "Julia Stiles",
          "Mark Wahlberg",
          "Vince Vaughan",
          "Harrison Ford",
          "Max von Sydow",
          "Peter Stormare",
          "Desmond Llewelyn",
          "Halle Berry",
          "Daniel Craig",
          "Kate Beckinsale",
          "Marlon Brando",
          "Margot Kidder",
          "Christopher Reeve",
          "Michael Ironside",
          "Jack Nicholson",
          "Martin Sheen",
          "Jeremy Irons",
          "Chris Tucker",
          "Michael J. Fox",
          "Thomas F. Wilson",
          "Matthew Broderick",
          "Jerry Seinfeld",
          "Ray Liotta",
          "Djimon Hounsou",
          "Chris Rock",
          "Danny Glover",
          "Rene Russo",
          "Jet Li",
          "Sophie Marceau",
          "Isla Fisher",
          "Jane Seymour",
          "Rachel McAdams",
          "James Cromwell",
          "Paul Giamatti",
          "Paddy Considine",
          "Robert Patrick",
          "Russell Crowe",
          "Arnold Schwarzenegger",
          "Hugh Jackman",
          "Maggie Q",
          "Eric Bana",
          "Dennis Hopper",
          "Milla Jovovich",
          "Colin Farrell",
          "William Hurt",
          "Alec Baldwin",
          "Ed Harris",
          "Mary Elizabeth Mastrantonio",
          "Sylvester Stallone",
          "Michael Rooker",
          "Michael Madsen",
          "Christopher Lloyd",
          "Brent Spiner",
          "Hiroyuki Sanada",
          "Mel Gibson",
          "Jennifer Connelly",
          "Ray Winstone",
          "Catherine Zeta-Jones",
          "Christian Bale",
          "Henry Winkler",
          "Adam Sandler",
          "David Hasselhoff",
          "William Sadler",
          "Bonnie Bedelia",
          "Gene Hackman",
          "Owen Wilson",
          "Rachel Weisz",
          "John C. Reilly",
          "Josh Hartnett",
          "Robin Wright Penn",
          "Christopher Walken",
          "Edward Norton",
          "Sigourney Weaver",
          "Patrick McGoohan",
          "Christina Ricci",
          "Nicolas Cage",
          "Christopher Plummer",
          "Cillian Murphy",
          "Joe Pesci",
          "Jude Law",
          "Renee Zellweger",
          "Michael Biehn",
          "Anthony Hopkins",
          "John Malkovich",
          "Patrick Stewart",
          "Daniel Day-Lewis",
          "Christian Slater",
          "Jackie Chan",
          "Michelle Yeoh",
          "Michael Caine",
          "Paul Newman",
          "Stanley Tucci",
          "Val Kilmer",
          "Jim Caviezel",
          "Denzel Washington",
          "Kathleen Quinlan",
          "James Earl Jones",
          "Arnold Vosloo",
          "Snoop Dogg",
          "Chris Penn",
          "Juliette Lewis",
          "Ben Stiller",
          "Fred Williamson",
          "Uma Thurman",
          "Daryl Hannah",
          "David Carradine",
          "Will Ferrell",
          "Sacha Baron Cohen",
          "James Gandolfini",
          "Pete Postlethwaite",
          "Charles S. Dutton",
          "Ciaran Hinds",
          "Benicio Del Toro",
          "Timothy Dalton",
          "David Hedison",
          "Robert Brown",
          "Donnie Yen",
          "Charles Dance",
          "Sharon Stone",
          "Kris Kristofferson",
          "Wesley Snipes",
          "Clive Owen",
          "Lucy Liu",
          "Stephen Dorff",
          "Jim Broadbent",
          "F. Murray Abraham",
          "Malcolm McDowell",
          "Rudy Youngblood",
          "Dalia Hernandez",
          "Jonathan Frakes",
          "Gates McFadden",
          "LeVar Burton",
          "Marina Sirtis",
          "Michael Dorn",
          "Robert De Niro",
          "Ron Perlman",
          "William Shatner",
          "Walter Koenig",
          "James Doohan",
          "Jamie Foxx",
          "DeForest Kelley",
          "Nichelle Nichols",
          "Leonard Nimoy",
          "George Takei",
          "Selma Blair",
          "James Woods",
          "Ricardo Montalban",
          "Donald Sutherland",
          "Scarlett Johansson",
          "Jessica Biel",
          "Luke Wilson",
          "Steve Coogan",
          "Sammo Hung",
          "Ryan Phillippe",
          "Hilary Swank",
          "Sean Pertwee",
          "Joely Richardson",
          "Geena Davis",
          "Madeleine Stowe",
          "Russell Means",
          "Wes Studi"
         ],
         "y": [
          1835.4,
          1835.4,
          1009.031982,
          1009.031982,
          920.1,
          920.1,
          917.233761,
          899.34087125,
          897.090449,
          897.090449
         ]
        }
       ],
       "layout": {
        "paper_bgcolor": "rgba(0,0,0,0)",
        "plot_bgcolor": "rgba(0,0,0,0)",
        "template": {
         "data": {
          "bar": [
           {
            "error_x": {
             "color": "#2a3f5f"
            },
            "error_y": {
             "color": "#2a3f5f"
            },
            "marker": {
             "line": {
              "color": "#E5ECF6",
              "width": 0.5
             },
             "pattern": {
              "fillmode": "overlay",
              "size": 10,
              "solidity": 0.2
             }
            },
            "type": "bar"
           }
          ],
          "barpolar": [
           {
            "marker": {
             "line": {
              "color": "#E5ECF6",
              "width": 0.5
             },
             "pattern": {
              "fillmode": "overlay",
              "size": 10,
              "solidity": 0.2
             }
            },
            "type": "barpolar"
           }
          ],
          "carpet": [
           {
            "aaxis": {
             "endlinecolor": "#2a3f5f",
             "gridcolor": "white",
             "linecolor": "white",
             "minorgridcolor": "white",
             "startlinecolor": "#2a3f5f"
            },
            "baxis": {
             "endlinecolor": "#2a3f5f",
             "gridcolor": "white",
             "linecolor": "white",
             "minorgridcolor": "white",
             "startlinecolor": "#2a3f5f"
            },
            "type": "carpet"
           }
          ],
          "choropleth": [
           {
            "colorbar": {
             "outlinewidth": 0,
             "ticks": ""
            },
            "type": "choropleth"
           }
          ],
          "contour": [
           {
            "colorbar": {
             "outlinewidth": 0,
             "ticks": ""
            },
            "colorscale": [
             [
              0,
              "#0d0887"
             ],
             [
              0.1111111111111111,
              "#46039f"
             ],
             [
              0.2222222222222222,
              "#7201a8"
             ],
             [
              0.3333333333333333,
              "#9c179e"
             ],
             [
              0.4444444444444444,
              "#bd3786"
             ],
             [
              0.5555555555555556,
              "#d8576b"
             ],
             [
              0.6666666666666666,
              "#ed7953"
             ],
             [
              0.7777777777777778,
              "#fb9f3a"
             ],
             [
              0.8888888888888888,
              "#fdca26"
             ],
             [
              1,
              "#f0f921"
             ]
            ],
            "type": "contour"
           }
          ],
          "contourcarpet": [
           {
            "colorbar": {
             "outlinewidth": 0,
             "ticks": ""
            },
            "type": "contourcarpet"
           }
          ],
          "heatmap": [
           {
            "colorbar": {
             "outlinewidth": 0,
             "ticks": ""
            },
            "colorscale": [
             [
              0,
              "#0d0887"
             ],
             [
              0.1111111111111111,
              "#46039f"
             ],
             [
              0.2222222222222222,
              "#7201a8"
             ],
             [
              0.3333333333333333,
              "#9c179e"
             ],
             [
              0.4444444444444444,
              "#bd3786"
             ],
             [
              0.5555555555555556,
              "#d8576b"
             ],
             [
              0.6666666666666666,
              "#ed7953"
             ],
             [
              0.7777777777777778,
              "#fb9f3a"
             ],
             [
              0.8888888888888888,
              "#fdca26"
             ],
             [
              1,
              "#f0f921"
             ]
            ],
            "type": "heatmap"
           }
          ],
          "heatmapgl": [
           {
            "colorbar": {
             "outlinewidth": 0,
             "ticks": ""
            },
            "colorscale": [
             [
              0,
              "#0d0887"
             ],
             [
              0.1111111111111111,
              "#46039f"
             ],
             [
              0.2222222222222222,
              "#7201a8"
             ],
             [
              0.3333333333333333,
              "#9c179e"
             ],
             [
              0.4444444444444444,
              "#bd3786"
             ],
             [
              0.5555555555555556,
              "#d8576b"
             ],
             [
              0.6666666666666666,
              "#ed7953"
             ],
             [
              0.7777777777777778,
              "#fb9f3a"
             ],
             [
              0.8888888888888888,
              "#fdca26"
             ],
             [
              1,
              "#f0f921"
             ]
            ],
            "type": "heatmapgl"
           }
          ],
          "histogram": [
           {
            "marker": {
             "pattern": {
              "fillmode": "overlay",
              "size": 10,
              "solidity": 0.2
             }
            },
            "type": "histogram"
           }
          ],
          "histogram2d": [
           {
            "colorbar": {
             "outlinewidth": 0,
             "ticks": ""
            },
            "colorscale": [
             [
              0,
              "#0d0887"
             ],
             [
              0.1111111111111111,
              "#46039f"
             ],
             [
              0.2222222222222222,
              "#7201a8"
             ],
             [
              0.3333333333333333,
              "#9c179e"
             ],
             [
              0.4444444444444444,
              "#bd3786"
             ],
             [
              0.5555555555555556,
              "#d8576b"
             ],
             [
              0.6666666666666666,
              "#ed7953"
             ],
             [
              0.7777777777777778,
              "#fb9f3a"
             ],
             [
              0.8888888888888888,
              "#fdca26"
             ],
             [
              1,
              "#f0f921"
             ]
            ],
            "type": "histogram2d"
           }
          ],
          "histogram2dcontour": [
           {
            "colorbar": {
             "outlinewidth": 0,
             "ticks": ""
            },
            "colorscale": [
             [
              0,
              "#0d0887"
             ],
             [
              0.1111111111111111,
              "#46039f"
             ],
             [
              0.2222222222222222,
              "#7201a8"
             ],
             [
              0.3333333333333333,
              "#9c179e"
             ],
             [
              0.4444444444444444,
              "#bd3786"
             ],
             [
              0.5555555555555556,
              "#d8576b"
             ],
             [
              0.6666666666666666,
              "#ed7953"
             ],
             [
              0.7777777777777778,
              "#fb9f3a"
             ],
             [
              0.8888888888888888,
              "#fdca26"
             ],
             [
              1,
              "#f0f921"
             ]
            ],
            "type": "histogram2dcontour"
           }
          ],
          "mesh3d": [
           {
            "colorbar": {
             "outlinewidth": 0,
             "ticks": ""
            },
            "type": "mesh3d"
           }
          ],
          "parcoords": [
           {
            "line": {
             "colorbar": {
              "outlinewidth": 0,
              "ticks": ""
             }
            },
            "type": "parcoords"
           }
          ],
          "pie": [
           {
            "automargin": true,
            "type": "pie"
           }
          ],
          "scatter": [
           {
            "fillpattern": {
             "fillmode": "overlay",
             "size": 10,
             "solidity": 0.2
            },
            "type": "scatter"
           }
          ],
          "scatter3d": [
           {
            "line": {
             "colorbar": {
              "outlinewidth": 0,
              "ticks": ""
             }
            },
            "marker": {
             "colorbar": {
              "outlinewidth": 0,
              "ticks": ""
             }
            },
            "type": "scatter3d"
           }
          ],
          "scattercarpet": [
           {
            "marker": {
             "colorbar": {
              "outlinewidth": 0,
              "ticks": ""
             }
            },
            "type": "scattercarpet"
           }
          ],
          "scattergeo": [
           {
            "marker": {
             "colorbar": {
              "outlinewidth": 0,
              "ticks": ""
             }
            },
            "type": "scattergeo"
           }
          ],
          "scattergl": [
           {
            "marker": {
             "colorbar": {
              "outlinewidth": 0,
              "ticks": ""
             }
            },
            "type": "scattergl"
           }
          ],
          "scattermapbox": [
           {
            "marker": {
             "colorbar": {
              "outlinewidth": 0,
              "ticks": ""
             }
            },
            "type": "scattermapbox"
           }
          ],
          "scatterpolar": [
           {
            "marker": {
             "colorbar": {
              "outlinewidth": 0,
              "ticks": ""
             }
            },
            "type": "scatterpolar"
           }
          ],
          "scatterpolargl": [
           {
            "marker": {
             "colorbar": {
              "outlinewidth": 0,
              "ticks": ""
             }
            },
            "type": "scatterpolargl"
           }
          ],
          "scatterternary": [
           {
            "marker": {
             "colorbar": {
              "outlinewidth": 0,
              "ticks": ""
             }
            },
            "type": "scatterternary"
           }
          ],
          "surface": [
           {
            "colorbar": {
             "outlinewidth": 0,
             "ticks": ""
            },
            "colorscale": [
             [
              0,
              "#0d0887"
             ],
             [
              0.1111111111111111,
              "#46039f"
             ],
             [
              0.2222222222222222,
              "#7201a8"
             ],
             [
              0.3333333333333333,
              "#9c179e"
             ],
             [
              0.4444444444444444,
              "#bd3786"
             ],
             [
              0.5555555555555556,
              "#d8576b"
             ],
             [
              0.6666666666666666,
              "#ed7953"
             ],
             [
              0.7777777777777778,
              "#fb9f3a"
             ],
             [
              0.8888888888888888,
              "#fdca26"
             ],
             [
              1,
              "#f0f921"
             ]
            ],
            "type": "surface"
           }
          ],
          "table": [
           {
            "cells": {
             "fill": {
              "color": "#EBF0F8"
             },
             "line": {
              "color": "white"
             }
            },
            "header": {
             "fill": {
              "color": "#C8D4E3"
             },
             "line": {
              "color": "white"
             }
            },
            "type": "table"
           }
          ]
         },
         "layout": {
          "annotationdefaults": {
           "arrowcolor": "#2a3f5f",
           "arrowhead": 0,
           "arrowwidth": 1
          },
          "autotypenumbers": "strict",
          "coloraxis": {
           "colorbar": {
            "outlinewidth": 0,
            "ticks": ""
           }
          },
          "colorscale": {
           "diverging": [
            [
             0,
             "#8e0152"
            ],
            [
             0.1,
             "#c51b7d"
            ],
            [
             0.2,
             "#de77ae"
            ],
            [
             0.3,
             "#f1b6da"
            ],
            [
             0.4,
             "#fde0ef"
            ],
            [
             0.5,
             "#f7f7f7"
            ],
            [
             0.6,
             "#e6f5d0"
            ],
            [
             0.7,
             "#b8e186"
            ],
            [
             0.8,
             "#7fbc41"
            ],
            [
             0.9,
             "#4d9221"
            ],
            [
             1,
             "#276419"
            ]
           ],
           "sequential": [
            [
             0,
             "#0d0887"
            ],
            [
             0.1111111111111111,
             "#46039f"
            ],
            [
             0.2222222222222222,
             "#7201a8"
            ],
            [
             0.3333333333333333,
             "#9c179e"
            ],
            [
             0.4444444444444444,
             "#bd3786"
            ],
            [
             0.5555555555555556,
             "#d8576b"
            ],
            [
             0.6666666666666666,
             "#ed7953"
            ],
            [
             0.7777777777777778,
             "#fb9f3a"
            ],
            [
             0.8888888888888888,
             "#fdca26"
            ],
            [
             1,
             "#f0f921"
            ]
           ],
           "sequentialminus": [
            [
             0,
             "#0d0887"
            ],
            [
             0.1111111111111111,
             "#46039f"
            ],
            [
             0.2222222222222222,
             "#7201a8"
            ],
            [
             0.3333333333333333,
             "#9c179e"
            ],
            [
             0.4444444444444444,
             "#bd3786"
            ],
            [
             0.5555555555555556,
             "#d8576b"
            ],
            [
             0.6666666666666666,
             "#ed7953"
            ],
            [
             0.7777777777777778,
             "#fb9f3a"
            ],
            [
             0.8888888888888888,
             "#fdca26"
            ],
            [
             1,
             "#f0f921"
            ]
           ]
          },
          "colorway": [
           "#636efa",
           "#EF553B",
           "#00cc96",
           "#ab63fa",
           "#FFA15A",
           "#19d3f3",
           "#FF6692",
           "#B6E880",
           "#FF97FF",
           "#FECB52"
          ],
          "font": {
           "color": "#2a3f5f"
          },
          "geo": {
           "bgcolor": "white",
           "lakecolor": "white",
           "landcolor": "#E5ECF6",
           "showlakes": true,
           "showland": true,
           "subunitcolor": "white"
          },
          "hoverlabel": {
           "align": "left"
          },
          "hovermode": "closest",
          "mapbox": {
           "style": "light"
          },
          "paper_bgcolor": "white",
          "plot_bgcolor": "#E5ECF6",
          "polar": {
           "angularaxis": {
            "gridcolor": "white",
            "linecolor": "white",
            "ticks": ""
           },
           "bgcolor": "#E5ECF6",
           "radialaxis": {
            "gridcolor": "white",
            "linecolor": "white",
            "ticks": ""
           }
          },
          "scene": {
           "xaxis": {
            "backgroundcolor": "#E5ECF6",
            "gridcolor": "white",
            "gridwidth": 2,
            "linecolor": "white",
            "showbackground": true,
            "ticks": "",
            "zerolinecolor": "white"
           },
           "yaxis": {
            "backgroundcolor": "#E5ECF6",
            "gridcolor": "white",
            "gridwidth": 2,
            "linecolor": "white",
            "showbackground": true,
            "ticks": "",
            "zerolinecolor": "white"
           },
           "zaxis": {
            "backgroundcolor": "#E5ECF6",
            "gridcolor": "white",
            "gridwidth": 2,
            "linecolor": "white",
            "showbackground": true,
            "ticks": "",
            "zerolinecolor": "white"
           }
          },
          "shapedefaults": {
           "line": {
            "color": "#2a3f5f"
           }
          },
          "ternary": {
           "aaxis": {
            "gridcolor": "white",
            "linecolor": "white",
            "ticks": ""
           },
           "baxis": {
            "gridcolor": "white",
            "linecolor": "white",
            "ticks": ""
           },
           "bgcolor": "#E5ECF6",
           "caxis": {
            "gridcolor": "white",
            "linecolor": "white",
            "ticks": ""
           }
          },
          "title": {
           "x": 0.05
          },
          "xaxis": {
           "automargin": true,
           "gridcolor": "white",
           "linecolor": "white",
           "ticks": "",
           "title": {
            "standoff": 15
           },
           "zerolinecolor": "white",
           "zerolinewidth": 2
          },
          "yaxis": {
           "automargin": true,
           "gridcolor": "white",
           "linecolor": "white",
           "ticks": "",
           "title": {
            "standoff": 15
           },
           "zerolinecolor": "white",
           "zerolinewidth": 2
          }
         }
        },
        "xaxis": {
         "anchor": "y",
         "domain": [
          0,
          0.94
         ]
        },
        "yaxis": {
         "anchor": "x",
         "domain": [
          0,
          1
         ]
        },
        "yaxis2": {
         "anchor": "x",
         "overlaying": "y",
         "side": "right"
        }
       }
      }
     },
     "metadata": {},
     "output_type": "display_data"
    }
   ],
   "source": [
    "fig = make_subplots(specs=[[{\"secondary_y\": True}]])\n",
    "\n",
    "fig.add_trace(go.Bar(x=df.index, y=df['FilmBoxOfficeDollars'].iloc[0:10]))\n",
    "\n",
    "fig.update_layout(paper_bgcolor='rgba(0,0,0,0)', plot_bgcolor='rgba(0,0,0,0)')\n",
    "\n",
    "fig\n",
    "\n"
   ]
  },
  {
   "cell_type": "code",
   "execution_count": 16,
   "metadata": {},
   "outputs": [
    {
     "data": {
      "text/html": [
       "<div>\n",
       "<style scoped>\n",
       "    .dataframe tbody tr th:only-of-type {\n",
       "        vertical-align: middle;\n",
       "    }\n",
       "\n",
       "    .dataframe tbody tr th {\n",
       "        vertical-align: top;\n",
       "    }\n",
       "\n",
       "    .dataframe thead th {\n",
       "        text-align: right;\n",
       "    }\n",
       "</style>\n",
       "<table border=\"1\" class=\"dataframe\">\n",
       "  <thead>\n",
       "    <tr style=\"text-align: right;\">\n",
       "      <th></th>\n",
       "      <th>ActorName</th>\n",
       "      <th>ActorDOB</th>\n",
       "      <th>ActorGender</th>\n",
       "    </tr>\n",
       "    <tr>\n",
       "      <th>ActorID</th>\n",
       "      <th></th>\n",
       "      <th></th>\n",
       "      <th></th>\n",
       "    </tr>\n",
       "  </thead>\n",
       "  <tbody>\n",
       "    <tr>\n",
       "      <th>1</th>\n",
       "      <td>Tom Cruise</td>\n",
       "      <td>1962-07-03 09:53:21.000</td>\n",
       "      <td>Male</td>\n",
       "    </tr>\n",
       "    <tr>\n",
       "      <th>2</th>\n",
       "      <td>Sam Neill</td>\n",
       "      <td>1947-09-14 00:00:00.000</td>\n",
       "      <td>Male</td>\n",
       "    </tr>\n",
       "    <tr>\n",
       "      <th>3</th>\n",
       "      <td>Laura Dern</td>\n",
       "      <td>1967-02-10 00:00:00.000</td>\n",
       "      <td>Female</td>\n",
       "    </tr>\n",
       "    <tr>\n",
       "      <th>4</th>\n",
       "      <td>Jeff Goldblum</td>\n",
       "      <td>1952-10-22 00:00:00.000</td>\n",
       "      <td>Male</td>\n",
       "    </tr>\n",
       "    <tr>\n",
       "      <th>5</th>\n",
       "      <td>Richard Attenborough</td>\n",
       "      <td>1923-08-29 00:00:00.000</td>\n",
       "      <td>Male</td>\n",
       "    </tr>\n",
       "    <tr>\n",
       "      <th>...</th>\n",
       "      <td>...</td>\n",
       "      <td>...</td>\n",
       "      <td>...</td>\n",
       "    </tr>\n",
       "    <tr>\n",
       "      <th>337</th>\n",
       "      <td>Thomas F. Wilson</td>\n",
       "      <td>1959-04-15 00:00:00.000</td>\n",
       "      <td>Male</td>\n",
       "    </tr>\n",
       "    <tr>\n",
       "      <th>338</th>\n",
       "      <td>Timothy Dalton</td>\n",
       "      <td>1944-03-21 00:00:00.000</td>\n",
       "      <td>Male</td>\n",
       "    </tr>\n",
       "    <tr>\n",
       "      <th>339</th>\n",
       "      <td>Benicio Del Toro</td>\n",
       "      <td>1967-02-19 00:00:00.000</td>\n",
       "      <td>Male</td>\n",
       "    </tr>\n",
       "    <tr>\n",
       "      <th>340</th>\n",
       "      <td>Robert Brown</td>\n",
       "      <td>1921-07-23 00:00:00.000</td>\n",
       "      <td>Male</td>\n",
       "    </tr>\n",
       "    <tr>\n",
       "      <th>341</th>\n",
       "      <td>David Hedison</td>\n",
       "      <td>1927-05-20 00:00:00.000</td>\n",
       "      <td>Male</td>\n",
       "    </tr>\n",
       "  </tbody>\n",
       "</table>\n",
       "<p>338 rows × 3 columns</p>\n",
       "</div>"
      ],
      "text/plain": [
       "                    ActorName                 ActorDOB ActorGender\n",
       "ActorID                                                           \n",
       "1                  Tom Cruise  1962-07-03 09:53:21.000        Male\n",
       "2                   Sam Neill  1947-09-14 00:00:00.000        Male\n",
       "3                  Laura Dern  1967-02-10 00:00:00.000      Female\n",
       "4               Jeff Goldblum  1952-10-22 00:00:00.000        Male\n",
       "5        Richard Attenborough  1923-08-29 00:00:00.000        Male\n",
       "...                       ...                      ...         ...\n",
       "337          Thomas F. Wilson  1959-04-15 00:00:00.000        Male\n",
       "338            Timothy Dalton  1944-03-21 00:00:00.000        Male\n",
       "339          Benicio Del Toro  1967-02-19 00:00:00.000        Male\n",
       "340              Robert Brown  1921-07-23 00:00:00.000        Male\n",
       "341             David Hedison  1927-05-20 00:00:00.000        Male\n",
       "\n",
       "[338 rows x 3 columns]"
      ]
     },
     "execution_count": 16,
     "metadata": {},
     "output_type": "execute_result"
    }
   ],
   "source": [
    "tables['Actor']"
   ]
  },
  {
   "cell_type": "code",
   "execution_count": 20,
   "metadata": {},
   "outputs": [],
   "source": [
    "df = tables['Cast'].merge(tables['Actor'],left_on='CastActorID', right_index=True)"
   ]
  },
  {
   "cell_type": "code",
   "execution_count": 21,
   "metadata": {},
   "outputs": [],
   "source": [
    "df = df.merge(tables['Film'],left_on='CastFilmID', right_index=True)"
   ]
  },
  {
   "cell_type": "code",
   "execution_count": 46,
   "metadata": {},
   "outputs": [
    {
     "data": {
      "text/html": [
       "<div>\n",
       "<style scoped>\n",
       "    .dataframe tbody tr th:only-of-type {\n",
       "        vertical-align: middle;\n",
       "    }\n",
       "\n",
       "    .dataframe tbody tr th {\n",
       "        vertical-align: top;\n",
       "    }\n",
       "\n",
       "    .dataframe thead th {\n",
       "        text-align: right;\n",
       "    }\n",
       "</style>\n",
       "<table border=\"1\" class=\"dataframe\">\n",
       "  <thead>\n",
       "    <tr style=\"text-align: right;\">\n",
       "      <th></th>\n",
       "      <th>CastFilmID</th>\n",
       "      <th>CastActorID</th>\n",
       "      <th>CastCharacterName</th>\n",
       "      <th>ActorName</th>\n",
       "      <th>ActorDOB</th>\n",
       "      <th>ActorGender</th>\n",
       "      <th>FilmName</th>\n",
       "      <th>FilmReleaseDate</th>\n",
       "      <th>FilmDirectorID</th>\n",
       "      <th>FilmLanguageID</th>\n",
       "      <th>...</th>\n",
       "      <th>FilmStudioID</th>\n",
       "      <th>FilmSynopsis</th>\n",
       "      <th>FilmRunTimeMinutes</th>\n",
       "      <th>FilmCertificateID</th>\n",
       "      <th>FilmBudgetDollars</th>\n",
       "      <th>FilmBoxOfficeDollars</th>\n",
       "      <th>FilmOscarNominations</th>\n",
       "      <th>FilmOscarWins</th>\n",
       "      <th>FilmBenefits</th>\n",
       "      <th>FilmReleaseYear</th>\n",
       "    </tr>\n",
       "    <tr>\n",
       "      <th>CastID</th>\n",
       "      <th></th>\n",
       "      <th></th>\n",
       "      <th></th>\n",
       "      <th></th>\n",
       "      <th></th>\n",
       "      <th></th>\n",
       "      <th></th>\n",
       "      <th></th>\n",
       "      <th></th>\n",
       "      <th></th>\n",
       "      <th></th>\n",
       "      <th></th>\n",
       "      <th></th>\n",
       "      <th></th>\n",
       "      <th></th>\n",
       "      <th></th>\n",
       "      <th></th>\n",
       "      <th></th>\n",
       "      <th></th>\n",
       "      <th></th>\n",
       "      <th></th>\n",
       "    </tr>\n",
       "  </thead>\n",
       "  <tbody>\n",
       "    <tr>\n",
       "      <th>251</th>\n",
       "      <td>48</td>\n",
       "      <td>64</td>\n",
       "      <td>Sabé</td>\n",
       "      <td>Keira Knightley</td>\n",
       "      <td>1985-03-26 00:00:00.000</td>\n",
       "      <td>Female</td>\n",
       "      <td>Star Wars: Episode I - The Phantom Menace</td>\n",
       "      <td>1999-07-16</td>\n",
       "      <td>7.0</td>\n",
       "      <td>1.0</td>\n",
       "      <td>...</td>\n",
       "      <td>13.0</td>\n",
       "      <td>The evil Trade Federation, led by Nute Gunray ...</td>\n",
       "      <td>133.0</td>\n",
       "      <td>1.0</td>\n",
       "      <td>115.0</td>\n",
       "      <td>924.288297</td>\n",
       "      <td>3.0</td>\n",
       "      <td>0.0</td>\n",
       "      <td>809.288297</td>\n",
       "      <td>1999.0</td>\n",
       "    </tr>\n",
       "    <tr>\n",
       "      <th>68</th>\n",
       "      <td>14</td>\n",
       "      <td>64</td>\n",
       "      <td>Elizabeth Swann</td>\n",
       "      <td>Keira Knightley</td>\n",
       "      <td>1985-03-26 00:00:00.000</td>\n",
       "      <td>Female</td>\n",
       "      <td>Pirates of the Caribbean: At World's End</td>\n",
       "      <td>2007-05-24</td>\n",
       "      <td>22.0</td>\n",
       "      <td>1.0</td>\n",
       "      <td>...</td>\n",
       "      <td>3.0</td>\n",
       "      <td>Captain Barbossa, Will Turner and Elizabeth Sw...</td>\n",
       "      <td>168.0</td>\n",
       "      <td>4.0</td>\n",
       "      <td>150.0</td>\n",
       "      <td>952.404152</td>\n",
       "      <td>2.0</td>\n",
       "      <td>0.0</td>\n",
       "      <td>802.404152</td>\n",
       "      <td>2007.0</td>\n",
       "    </tr>\n",
       "    <tr>\n",
       "      <th>107</th>\n",
       "      <td>21</td>\n",
       "      <td>64</td>\n",
       "      <td>Elizabeth Swann</td>\n",
       "      <td>Keira Knightley</td>\n",
       "      <td>1985-03-26 00:00:00.000</td>\n",
       "      <td>Female</td>\n",
       "      <td>Pirates of the Caribbean: Dead Man's Chest</td>\n",
       "      <td>2006-07-06</td>\n",
       "      <td>22.0</td>\n",
       "      <td>1.0</td>\n",
       "      <td>...</td>\n",
       "      <td>3.0</td>\n",
       "      <td>Jack Sparrow races to recover the heart of Dav...</td>\n",
       "      <td>150.0</td>\n",
       "      <td>4.0</td>\n",
       "      <td>150.0</td>\n",
       "      <td>1065.659812</td>\n",
       "      <td>4.0</td>\n",
       "      <td>1.0</td>\n",
       "      <td>915.659812</td>\n",
       "      <td>2006.0</td>\n",
       "    </tr>\n",
       "    <tr>\n",
       "      <th>199</th>\n",
       "      <td>40</td>\n",
       "      <td>64</td>\n",
       "      <td>Elizabeth Swann</td>\n",
       "      <td>Keira Knightley</td>\n",
       "      <td>1985-03-26 00:00:00.000</td>\n",
       "      <td>Female</td>\n",
       "      <td>Pirates of the Caribbean: Curse of the Black P...</td>\n",
       "      <td>2003-08-08</td>\n",
       "      <td>22.0</td>\n",
       "      <td>1.0</td>\n",
       "      <td>...</td>\n",
       "      <td>3.0</td>\n",
       "      <td>Blacksmith Will Turner teams up with eccentric...</td>\n",
       "      <td>143.0</td>\n",
       "      <td>3.0</td>\n",
       "      <td>125.0</td>\n",
       "      <td>655.011224</td>\n",
       "      <td>5.0</td>\n",
       "      <td>0.0</td>\n",
       "      <td>530.011224</td>\n",
       "      <td>2003.0</td>\n",
       "    </tr>\n",
       "  </tbody>\n",
       "</table>\n",
       "<p>4 rows × 21 columns</p>\n",
       "</div>"
      ],
      "text/plain": [
       "        CastFilmID  CastActorID CastCharacterName        ActorName  \\\n",
       "CastID                                                               \n",
       "251             48           64              Sabé  Keira Knightley   \n",
       "68              14           64   Elizabeth Swann  Keira Knightley   \n",
       "107             21           64   Elizabeth Swann  Keira Knightley   \n",
       "199             40           64   Elizabeth Swann  Keira Knightley   \n",
       "\n",
       "                       ActorDOB ActorGender  \\\n",
       "CastID                                        \n",
       "251     1985-03-26 00:00:00.000      Female   \n",
       "68      1985-03-26 00:00:00.000      Female   \n",
       "107     1985-03-26 00:00:00.000      Female   \n",
       "199     1985-03-26 00:00:00.000      Female   \n",
       "\n",
       "                                                 FilmName FilmReleaseDate  \\\n",
       "CastID                                                                      \n",
       "251             Star Wars: Episode I - The Phantom Menace      1999-07-16   \n",
       "68               Pirates of the Caribbean: At World's End      2007-05-24   \n",
       "107            Pirates of the Caribbean: Dead Man's Chest      2006-07-06   \n",
       "199     Pirates of the Caribbean: Curse of the Black P...      2003-08-08   \n",
       "\n",
       "        FilmDirectorID  FilmLanguageID  ...  FilmStudioID  \\\n",
       "CastID                                  ...                 \n",
       "251                7.0             1.0  ...          13.0   \n",
       "68                22.0             1.0  ...           3.0   \n",
       "107               22.0             1.0  ...           3.0   \n",
       "199               22.0             1.0  ...           3.0   \n",
       "\n",
       "                                             FilmSynopsis FilmRunTimeMinutes  \\\n",
       "CastID                                                                         \n",
       "251     The evil Trade Federation, led by Nute Gunray ...              133.0   \n",
       "68      Captain Barbossa, Will Turner and Elizabeth Sw...              168.0   \n",
       "107     Jack Sparrow races to recover the heart of Dav...              150.0   \n",
       "199     Blacksmith Will Turner teams up with eccentric...              143.0   \n",
       "\n",
       "        FilmCertificateID  FilmBudgetDollars  FilmBoxOfficeDollars  \\\n",
       "CastID                                                               \n",
       "251                   1.0              115.0            924.288297   \n",
       "68                    4.0              150.0            952.404152   \n",
       "107                   4.0              150.0           1065.659812   \n",
       "199                   3.0              125.0            655.011224   \n",
       "\n",
       "        FilmOscarNominations  FilmOscarWins  FilmBenefits  FilmReleaseYear  \n",
       "CastID                                                                      \n",
       "251                      3.0            0.0    809.288297           1999.0  \n",
       "68                       2.0            0.0    802.404152           2007.0  \n",
       "107                      4.0            1.0    915.659812           2006.0  \n",
       "199                      5.0            0.0    530.011224           2003.0  \n",
       "\n",
       "[4 rows x 21 columns]"
      ]
     },
     "execution_count": 46,
     "metadata": {},
     "output_type": "execute_result"
    }
   ],
   "source": [
    "df[df['ActorName'] == 'Keira Knightley']"
   ]
  },
  {
   "cell_type": "code",
   "execution_count": 43,
   "metadata": {},
   "outputs": [
    {
     "name": "stderr",
     "output_type": "stream",
     "text": [
      "C:\\Users\\nicom\\AppData\\Local\\Temp\\ipykernel_46332\\506282210.py:1: FutureWarning: ['CastCharacterName', 'ActorDOB', 'ActorGender', 'FilmName', 'FilmReleaseDate', 'FilmSynopsis'] did not aggregate successfully. If any error is raised this will raise in a future version of pandas. Drop these columns/ops to avoid this warning.\n",
      "  actordollars = df.groupby('ActorName').aggregate(['mean','std'])[['FilmBudgetDollars','FilmBoxOfficeDollars']]\n",
      "C:\\Users\\nicom\\AppData\\Local\\Temp\\ipykernel_46332\\506282210.py:4: FutureWarning: merging between different levels is deprecated and will be removed in a future version. (2 levels on the left, 1 on the right)\n",
      "  actordollars.merge(actorcount, left_index=True,right_index=True).sort_values([('FilmBoxOfficeDollars','mean')], ascending=False).head(20)\n"
     ]
    },
    {
     "data": {
      "text/html": [
       "<div>\n",
       "<style scoped>\n",
       "    .dataframe tbody tr th:only-of-type {\n",
       "        vertical-align: middle;\n",
       "    }\n",
       "\n",
       "    .dataframe tbody tr th {\n",
       "        vertical-align: top;\n",
       "    }\n",
       "\n",
       "    .dataframe thead th {\n",
       "        text-align: right;\n",
       "    }\n",
       "</style>\n",
       "<table border=\"1\" class=\"dataframe\">\n",
       "  <thead>\n",
       "    <tr style=\"text-align: right;\">\n",
       "      <th></th>\n",
       "      <th>(FilmBudgetDollars, mean)</th>\n",
       "      <th>(FilmBudgetDollars, std)</th>\n",
       "      <th>(FilmBoxOfficeDollars, mean)</th>\n",
       "      <th>(FilmBoxOfficeDollars, std)</th>\n",
       "      <th>FilmName</th>\n",
       "    </tr>\n",
       "    <tr>\n",
       "      <th>ActorName</th>\n",
       "      <th></th>\n",
       "      <th></th>\n",
       "      <th></th>\n",
       "      <th></th>\n",
       "      <th></th>\n",
       "    </tr>\n",
       "  </thead>\n",
       "  <tbody>\n",
       "    <tr>\n",
       "      <th>Kate Winslet</th>\n",
       "      <td>200.00</td>\n",
       "      <td>NaN</td>\n",
       "      <td>1835.400000</td>\n",
       "      <td>NaN</td>\n",
       "      <td>1</td>\n",
       "    </tr>\n",
       "    <tr>\n",
       "      <th>Billy Zane</th>\n",
       "      <td>200.00</td>\n",
       "      <td>NaN</td>\n",
       "      <td>1835.400000</td>\n",
       "      <td>NaN</td>\n",
       "      <td>1</td>\n",
       "    </tr>\n",
       "    <tr>\n",
       "      <th>Bill Nighy</th>\n",
       "      <td>150.00</td>\n",
       "      <td>0.000000</td>\n",
       "      <td>1009.031982</td>\n",
       "      <td>80.083845</td>\n",
       "      <td>2</td>\n",
       "    </tr>\n",
       "    <tr>\n",
       "      <th>Stellan Skarsgard</th>\n",
       "      <td>150.00</td>\n",
       "      <td>0.000000</td>\n",
       "      <td>1009.031982</td>\n",
       "      <td>80.083845</td>\n",
       "      <td>2</td>\n",
       "    </tr>\n",
       "    <tr>\n",
       "      <th>Laura Dern</th>\n",
       "      <td>63.00</td>\n",
       "      <td>NaN</td>\n",
       "      <td>920.100000</td>\n",
       "      <td>NaN</td>\n",
       "      <td>1</td>\n",
       "    </tr>\n",
       "    <tr>\n",
       "      <th>Richard Attenborough</th>\n",
       "      <td>63.00</td>\n",
       "      <td>NaN</td>\n",
       "      <td>920.100000</td>\n",
       "      <td>NaN</td>\n",
       "      <td>1</td>\n",
       "    </tr>\n",
       "    <tr>\n",
       "      <th>Ralph Fiennes</th>\n",
       "      <td>150.00</td>\n",
       "      <td>0.000000</td>\n",
       "      <td>917.233761</td>\n",
       "      <td>30.010637</td>\n",
       "      <td>2</td>\n",
       "    </tr>\n",
       "    <tr>\n",
       "      <th>Keira Knightley</th>\n",
       "      <td>135.00</td>\n",
       "      <td>17.795130</td>\n",
       "      <td>899.340871</td>\n",
       "      <td>173.970354</td>\n",
       "      <td>4</td>\n",
       "    </tr>\n",
       "    <tr>\n",
       "      <th>Emma Watson</th>\n",
       "      <td>131.00</td>\n",
       "      <td>20.736441</td>\n",
       "      <td>897.090449</td>\n",
       "      <td>68.285695</td>\n",
       "      <td>5</td>\n",
       "    </tr>\n",
       "    <tr>\n",
       "      <th>Rupert Grint</th>\n",
       "      <td>131.00</td>\n",
       "      <td>20.736441</td>\n",
       "      <td>897.090449</td>\n",
       "      <td>68.285695</td>\n",
       "      <td>5</td>\n",
       "    </tr>\n",
       "    <tr>\n",
       "      <th>Daniel Radcliffe</th>\n",
       "      <td>131.00</td>\n",
       "      <td>20.736441</td>\n",
       "      <td>897.090449</td>\n",
       "      <td>68.285695</td>\n",
       "      <td>5</td>\n",
       "    </tr>\n",
       "    <tr>\n",
       "      <th>Anthony Daniels</th>\n",
       "      <td>115.00</td>\n",
       "      <td>0.000000</td>\n",
       "      <td>886.379437</td>\n",
       "      <td>53.611224</td>\n",
       "      <td>2</td>\n",
       "    </tr>\n",
       "    <tr>\n",
       "      <th>Kenny Baker</th>\n",
       "      <td>115.00</td>\n",
       "      <td>0.000000</td>\n",
       "      <td>886.379437</td>\n",
       "      <td>53.611224</td>\n",
       "      <td>2</td>\n",
       "    </tr>\n",
       "    <tr>\n",
       "      <th>Kenneth Branagh</th>\n",
       "      <td>100.00</td>\n",
       "      <td>NaN</td>\n",
       "      <td>878.987880</td>\n",
       "      <td>NaN</td>\n",
       "      <td>1</td>\n",
       "    </tr>\n",
       "    <tr>\n",
       "      <th>Liv Tyler</th>\n",
       "      <td>109.25</td>\n",
       "      <td>21.685248</td>\n",
       "      <td>870.633347</td>\n",
       "      <td>239.324577</td>\n",
       "      <td>4</td>\n",
       "    </tr>\n",
       "    <tr>\n",
       "      <th>Jeff Goldblum</th>\n",
       "      <td>69.00</td>\n",
       "      <td>8.485281</td>\n",
       "      <td>868.534627</td>\n",
       "      <td>72.924449</td>\n",
       "      <td>2</td>\n",
       "    </tr>\n",
       "    <tr>\n",
       "      <th>Antonio Banderas</th>\n",
       "      <td>115.00</td>\n",
       "      <td>63.639610</td>\n",
       "      <td>857.117833</td>\n",
       "      <td>82.251725</td>\n",
       "      <td>2</td>\n",
       "    </tr>\n",
       "    <tr>\n",
       "      <th>John Rhys-Davies</th>\n",
       "      <td>86.25</td>\n",
       "      <td>26.462237</td>\n",
       "      <td>850.526298</td>\n",
       "      <td>275.388370</td>\n",
       "      <td>4</td>\n",
       "    </tr>\n",
       "    <tr>\n",
       "      <th>Peter Mayhew</th>\n",
       "      <td>115.00</td>\n",
       "      <td>NaN</td>\n",
       "      <td>848.470577</td>\n",
       "      <td>NaN</td>\n",
       "      <td>1</td>\n",
       "    </tr>\n",
       "    <tr>\n",
       "      <th>Rena Owen</th>\n",
       "      <td>58.00</td>\n",
       "      <td>80.610173</td>\n",
       "      <td>848.470577</td>\n",
       "      <td>NaN</td>\n",
       "      <td>2</td>\n",
       "    </tr>\n",
       "  </tbody>\n",
       "</table>\n",
       "</div>"
      ],
      "text/plain": [
       "                      (FilmBudgetDollars, mean)  (FilmBudgetDollars, std)  \\\n",
       "ActorName                                                                   \n",
       "Kate Winslet                             200.00                       NaN   \n",
       "Billy Zane                               200.00                       NaN   \n",
       "Bill Nighy                               150.00                  0.000000   \n",
       "Stellan Skarsgard                        150.00                  0.000000   \n",
       "Laura Dern                                63.00                       NaN   \n",
       "Richard Attenborough                      63.00                       NaN   \n",
       "Ralph Fiennes                            150.00                  0.000000   \n",
       "Keira Knightley                          135.00                 17.795130   \n",
       "Emma Watson                              131.00                 20.736441   \n",
       "Rupert Grint                             131.00                 20.736441   \n",
       "Daniel Radcliffe                         131.00                 20.736441   \n",
       "Anthony Daniels                          115.00                  0.000000   \n",
       "Kenny Baker                              115.00                  0.000000   \n",
       "Kenneth Branagh                          100.00                       NaN   \n",
       "Liv Tyler                                109.25                 21.685248   \n",
       "Jeff Goldblum                             69.00                  8.485281   \n",
       "Antonio Banderas                         115.00                 63.639610   \n",
       "John Rhys-Davies                          86.25                 26.462237   \n",
       "Peter Mayhew                             115.00                       NaN   \n",
       "Rena Owen                                 58.00                 80.610173   \n",
       "\n",
       "                      (FilmBoxOfficeDollars, mean)  \\\n",
       "ActorName                                            \n",
       "Kate Winslet                           1835.400000   \n",
       "Billy Zane                             1835.400000   \n",
       "Bill Nighy                             1009.031982   \n",
       "Stellan Skarsgard                      1009.031982   \n",
       "Laura Dern                              920.100000   \n",
       "Richard Attenborough                    920.100000   \n",
       "Ralph Fiennes                           917.233761   \n",
       "Keira Knightley                         899.340871   \n",
       "Emma Watson                             897.090449   \n",
       "Rupert Grint                            897.090449   \n",
       "Daniel Radcliffe                        897.090449   \n",
       "Anthony Daniels                         886.379437   \n",
       "Kenny Baker                             886.379437   \n",
       "Kenneth Branagh                         878.987880   \n",
       "Liv Tyler                               870.633347   \n",
       "Jeff Goldblum                           868.534627   \n",
       "Antonio Banderas                        857.117833   \n",
       "John Rhys-Davies                        850.526298   \n",
       "Peter Mayhew                            848.470577   \n",
       "Rena Owen                               848.470577   \n",
       "\n",
       "                      (FilmBoxOfficeDollars, std)  FilmName  \n",
       "ActorName                                                    \n",
       "Kate Winslet                                  NaN         1  \n",
       "Billy Zane                                    NaN         1  \n",
       "Bill Nighy                              80.083845         2  \n",
       "Stellan Skarsgard                       80.083845         2  \n",
       "Laura Dern                                    NaN         1  \n",
       "Richard Attenborough                          NaN         1  \n",
       "Ralph Fiennes                           30.010637         2  \n",
       "Keira Knightley                        173.970354         4  \n",
       "Emma Watson                             68.285695         5  \n",
       "Rupert Grint                            68.285695         5  \n",
       "Daniel Radcliffe                        68.285695         5  \n",
       "Anthony Daniels                         53.611224         2  \n",
       "Kenny Baker                             53.611224         2  \n",
       "Kenneth Branagh                               NaN         1  \n",
       "Liv Tyler                              239.324577         4  \n",
       "Jeff Goldblum                           72.924449         2  \n",
       "Antonio Banderas                        82.251725         2  \n",
       "John Rhys-Davies                       275.388370         4  \n",
       "Peter Mayhew                                  NaN         1  \n",
       "Rena Owen                                     NaN         2  "
      ]
     },
     "execution_count": 43,
     "metadata": {},
     "output_type": "execute_result"
    }
   ],
   "source": [
    "actordollars = df.groupby('ActorName').aggregate(['mean','std'])[['FilmBudgetDollars','FilmBoxOfficeDollars']]\n",
    "actorcount = df.groupby('ActorName').count()['FilmName']\n",
    "\n",
    "actordollars.merge(actorcount, left_index=True,right_index=True).sort_values([('FilmBoxOfficeDollars','mean')], ascending=False).head(20)"
   ]
  }
 ],
 "metadata": {
  "kernelspec": {
   "display_name": "Python 3",
   "language": "python",
   "name": "python3"
  },
  "language_info": {
   "codemirror_mode": {
    "name": "ipython",
    "version": 3
   },
   "file_extension": ".py",
   "mimetype": "text/x-python",
   "name": "python",
   "nbconvert_exporter": "python",
   "pygments_lexer": "ipython3",
   "version": "3.10.11"
  },
  "orig_nbformat": 4
 },
 "nbformat": 4,
 "nbformat_minor": 2
}
